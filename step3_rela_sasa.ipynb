{
 "cells": [
  {
   "cell_type": "markdown",
   "id": "722f4368",
   "metadata": {},
   "source": [
    "conda activate antibody_prediction_safe"
   ]
  },
  {
   "cell_type": "code",
   "execution_count": 2,
   "id": "3a0171b8",
   "metadata": {},
   "outputs": [
    {
     "name": "stdout",
     "output_type": "stream",
     "text": [
      "Collecting freesasa\n",
      "  Using cached freesasa-2.2.1-cp310-cp310-linux_x86_64.whl\n",
      "Installing collected packages: freesasa\n",
      "Successfully installed freesasa-2.2.1\n"
     ]
    }
   ],
   "source": [
    "!pip install freesasa\n"
   ]
  },
  {
   "cell_type": "code",
   "execution_count": 5,
   "id": "ca676bff",
   "metadata": {},
   "outputs": [
    {
     "name": "stderr",
     "output_type": "stream",
     "text": [
      "  0%|          | 0/4 [00:00<?, ?it/s]"
     ]
    },
    {
     "name": "stderr",
     "output_type": "stream",
     "text": [
      "100%|██████████| 4/4 [00:00<00:00, 12.85it/s]\n",
      "100%|██████████| 3/3 [00:00<00:00, 11.16it/s]\n",
      "100%|██████████| 3/3 [00:00<00:00, 13.57it/s]\n",
      "100%|██████████| 3/3 [00:00<00:00,  7.35it/s]\n",
      "100%|██████████| 3/3 [00:00<00:00,  7.03it/s]\n",
      "100%|██████████| 3/3 [00:00<00:00,  8.84it/s]"
     ]
    },
    {
     "name": "stdout",
     "output_type": "stream",
     "text": [
      "methionine_sasa_summary_fixed.csv generated!\n"
     ]
    },
    {
     "name": "stderr",
     "output_type": "stream",
     "text": [
      "\n"
     ]
    }
   ],
   "source": [
    "import os\n",
    "import pandas as pd\n",
    "import freesasa\n",
    "from Bio import PDB\n",
    "from tqdm import tqdm\n",
    "\n",
    "def calculate_sasa_freesasa(pdb_path):\n",
    "    structure = freesasa.Structure(pdb_path)\n",
    "    result = freesasa.calc(structure)\n",
    "    sasa_dict = {}\n",
    "    for i in range(structure.nAtoms()):\n",
    "        resn = structure.residueName(i)\n",
    "        chain = structure.chainLabel(i)\n",
    "        resi = structure.residueNumber(i)\n",
    "        sasa = result.atomArea(i)\n",
    "        sasa_dict[(chain, resn, resi)] = sasa_dict.get((chain, resn, resi), 0) + sasa\n",
    "    return sasa_dict\n",
    "\n",
    "def extract_methionine_sasa(sasa_dict, short_name, imgt_number, model_name):\n",
    "    # output: short name, imgt number, model, sasa\n",
    "    return short_name, imgt_number, model_name, sasa_dict\n",
    "\n",
    "# --- Main ---\n",
    "folders = [\n",
    "    \"renumbered_output/igfold_1\",\n",
    "    \"renumbered_output/igfold_2\",\n",
    "    \"renumbered_output/igfold_3\",\n",
    "    \"renumbered_output/immunebuilder_1\",\n",
    "    \"renumbered_output/immunebuilder_2\",\n",
    "    \"renumbered_output/immunebuilder_3\",\n",
    "]\n",
    "\n",
    "# data dictionary to collect\n",
    "data = {}\n",
    "\n",
    "for folder in folders:\n",
    "    for pdb_file in tqdm(os.listdir(folder)):\n",
    "        if pdb_file.endswith(\".pdb\"):\n",
    "            full_path = os.path.join(folder, pdb_file)\n",
    "            pdb_name = pdb_file.replace(\"_renumbered.pdb\", \"\")\n",
    "            # short_name is molecule name\n",
    "            parts = pdb_name.split(\"_\")\n",
    "            short_name = \"_\".join(parts[:-2])\n",
    "            model_name = parts[-2] + \"_\" + parts[-1]  # igfold_1 etc.\n",
    "\n",
    "            sasa_dict = calculate_sasa_freesasa(full_path)\n",
    "\n",
    "            for (chain, resn, resi), sasa in sasa_dict.items():\n",
    "                if resn == \"MET\":\n",
    "                    chain_tag = 'H' if chain.upper() == 'H' else 'L'\n",
    "                    chain_tag = chain_tag.strip()\n",
    "                    resi = resi.strip()\n",
    "                    imgt_number = f\"{chain_tag}{resi}\"\n",
    "\n",
    "                    key = (short_name, imgt_number)\n",
    "                    if key not in data:\n",
    "                        data[key] = {}\n",
    "                    data[key][model_name] = sasa\n",
    "\n",
    "# --- Build DataFrame ---\n",
    "rows = []\n",
    "for (short_name, imgt_number), models_sasa in data.items():\n",
    "    row = {\n",
    "        \"name\": short_name,\n",
    "        \"imgt_number\": imgt_number,\n",
    "    }\n",
    "    for model in [\"igfold_1\", \"igfold_2\", \"igfold_3\", \"immunebuilder_1\", \"immunebuilder_2\", \"immunebuilder_3\"]:\n",
    "        row[model] = models_sasa.get(model, \"\")\n",
    "    rows.append(row)\n",
    "\n",
    "df = pd.DataFrame(rows)\n",
    "\n",
    "# Save to CSV\n",
    "df.to_csv(\"methionine_sasa_summary_fixed.csv\", index=False)\n",
    "\n",
    "print(\"methionine_sasa_summary_fixed.csv generated!\")\n"
   ]
  }
 ],
 "metadata": {
  "kernelspec": {
   "display_name": "antibody_prediction_safe",
   "language": "python",
   "name": "python3"
  },
  "language_info": {
   "codemirror_mode": {
    "name": "ipython",
    "version": 3
   },
   "file_extension": ".py",
   "mimetype": "text/x-python",
   "name": "python",
   "nbconvert_exporter": "python",
   "pygments_lexer": "ipython3",
   "version": "3.10.17"
  }
 },
 "nbformat": 4,
 "nbformat_minor": 5
}
