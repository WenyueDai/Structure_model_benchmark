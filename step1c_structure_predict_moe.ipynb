{
 "cells": [
  {
   "cell_type": "markdown",
   "id": "f4e015b4",
   "metadata": {},
   "source": [
    "# test what should be load \n",
    "module avail\n",
    "module load moebatch\n",
    "module load MOE\n",
    "\n",
    "# save the following script as a small shell script\n",
    "#!/bin/bash\n",
    "#SBATCH --job-name=moe_model\n",
    "#SBATCH --output=moe_model.out\n",
    "#SBATCH --time=01:00:00\n",
    "#SBATCH --mem=8G\n",
    "\n",
    "module load moebatch\n",
    "moebatch moe_batch_modeling_repeats.svl\n",
    "\n",
    "# in jupyter notebook\n",
    "!sbatch run_moe_slurm.sh\n"
   ]
  },
  {
   "cell_type": "code",
   "execution_count": null,
   "id": "29684427",
   "metadata": {
    "vscode": {
     "languageId": "shellscript"
    }
   },
   "outputs": [],
   "source": [
    "// === Setup ===\n",
    "csv_path := \"/path/to/antibody.csv\";          // change to your CSV\n",
    "output_base := \"/path/to/moe_output/\";        // change to your output base path\n",
    "num_repeats := 3;\n",
    "\n",
    "// === Load CSV ===\n",
    "rows := io_ReadCSV[csv_path];\n",
    "\n",
    "// === Loop Through Sequences ===\n",
    "for i := 1 to length(rows) do\n",
    "    row := rows[i];\n",
    "    name := row[\"name\"];\n",
    "    vh := row[\"vh\"];\n",
    "    vl := row[\"vl\"];\n",
    "    seq := [\"H\" := vh, \"L\" := vl];\n",
    "\n",
    "    for rep := 1 to num_repeats do\n",
    "        tag := sprintf(\"%s_rep%d\", name, rep);\n",
    "        out_folder := output_base + tag;\n",
    "        mkdir[out_folder];  // create folder\n",
    "\n",
    "        printf(\"Running MOE model: %s (repeat %d)\\n\", name, rep);\n",
    "\n",
    "        // Run homology model\n",
    "        model := Antibody_Modeler[\n",
    "            \"seq_data\" := seq,\n",
    "            \"num_models\" := 1,\n",
    "            \"numbering_scheme\" := \"IMGT\",\n",
    "            \"refine\" := true\n",
    "        ];\n",
    "\n",
    "        // Save output\n",
    "        pdb_path := sprintf(\"%s/%s.pdb\", out_folder, tag);\n",
    "        io_WritePDB[model, pdb_path];\n",
    "    end for;\n",
    "end for;\n"
   ]
  }
 ],
 "metadata": {
  "language_info": {
   "name": "python"
  }
 },
 "nbformat": 4,
 "nbformat_minor": 5
}
