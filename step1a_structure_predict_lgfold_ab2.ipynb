{
 "cells": [
  {
   "cell_type": "markdown",
   "id": "2bb1e1b9",
   "metadata": {},
   "source": [
    "conda create -n antibody_prediction_safe python=3.10 -y\n",
    "conda activate antibody_prediction_safe\n",
    "\n",
    "# Core packages\n",
    "conda install pytorch=2.0.1 torchvision torchaudio cpuonly -c pytorch -c nvidia\n",
    "\n",
    "# Install compatible versions\n",
    "pip install pytorch_lightning==2.0.7 biopython pandas tqdm scipy plotly seaborn matplotlib torchmetrics==0.11.4 transformers==4.29.2\n",
    "pip install numpy==1.24.4\n",
    "conda install conda-forge::pdbfixer\n",
    "conda install bioconda::anarci\n",
    "conda install -c conda-forge openmm==7.7.0\n",
    "conda install -c bioconda abnumber\n",
    "pip install igfold\n",
    "pip install ImmuneBuilder\n",
    "pip install abnumber\n",
    "pip install freesasa\n",
    "\n",
    "\n"
   ]
  },
  {
   "cell_type": "markdown",
   "id": "46bd9326",
   "metadata": {},
   "source": [
    "https://github.com/Graylab/IgFold\n",
    "https://github.com/oxpig/ImmuneBuilder"
   ]
  },
  {
   "cell_type": "code",
   "execution_count": 2,
   "id": "3e1b239a",
   "metadata": {},
   "outputs": [
    {
     "name": "stdout",
     "output_type": "stream",
     "text": [
      "\n",
      "    The code, data, and weights for this work are made available for non-commercial use \n",
      "    (including at commercial entities) under the terms of the JHU Academic Software License \n",
      "    Agreement. For commercial inquiries, please contact awichma2[at]jhu.edu.\n",
      "    License: https://github.com/Graylab/IgFold/blob/main/LICENSE.md\n",
      "    \n",
      "Loading 4 IgFold models...\n",
      "Using device: cpu\n",
      "Loading /home/eva/miniconda3/envs/antibody_prediction_safe/lib/python3.10/site-packages/igfold/trained_models/IgFold/igfold_1.ckpt...\n",
      "Loading /home/eva/miniconda3/envs/antibody_prediction_safe/lib/python3.10/site-packages/igfold/trained_models/IgFold/igfold_2.ckpt...\n",
      "Loading /home/eva/miniconda3/envs/antibody_prediction_safe/lib/python3.10/site-packages/igfold/trained_models/IgFold/igfold_3.ckpt...\n",
      "Loading /home/eva/miniconda3/envs/antibody_prediction_safe/lib/python3.10/site-packages/igfold/trained_models/IgFold/igfold_5.ckpt...\n",
      "Successfully loaded 4 IgFold models.\n",
      "Loaded AntiBERTy model.\n"
     ]
    },
    {
     "name": "stderr",
     "output_type": "stream",
     "text": [
      "  0%|          | 0/121 [00:00<?, ?it/s]"
     ]
    },
    {
     "name": "stdout",
     "output_type": "stream",
     "text": [
      "Completed folding in 14.28 seconds.\n",
      "Completed folding in 15.05 seconds.\n",
      "Completed folding in 13.98 seconds.\n"
     ]
    },
    {
     "name": "stderr",
     "output_type": "stream",
     "text": [
      "  1%|          | 1/121 [02:52<5:45:55, 172.97s/it]"
     ]
    },
    {
     "name": "stdout",
     "output_type": "stream",
     "text": [
      "Completed folding in 14.46 seconds.\n",
      "Completed folding in 13.88 seconds.\n",
      "Completed folding in 14.19 seconds.\n"
     ]
    },
    {
     "name": "stderr",
     "output_type": "stream",
     "text": [
      "  2%|▏         | 2/121 [05:11<5:03:00, 152.77s/it]"
     ]
    },
    {
     "name": "stdout",
     "output_type": "stream",
     "text": [
      "Completed folding in 15.43 seconds.\n",
      "Completed folding in 15.60 seconds.\n",
      "Completed folding in 14.36 seconds.\n"
     ]
    },
    {
     "name": "stderr",
     "output_type": "stream",
     "text": [
      "  2%|▏         | 3/121 [07:50<5:05:52, 155.53s/it]"
     ]
    },
    {
     "name": "stdout",
     "output_type": "stream",
     "text": [
      "Completed folding in 14.54 seconds.\n"
     ]
    },
    {
     "name": "stderr",
     "output_type": "stream",
     "text": [
      "  2%|▏         | 3/121 [08:13<5:23:38, 164.56s/it]\n"
     ]
    },
    {
     "ename": "KeyboardInterrupt",
     "evalue": "",
     "output_type": "error",
     "traceback": [
      "\u001b[0;31m---------------------------------------------------------------------------\u001b[0m",
      "\u001b[0;31mKeyboardInterrupt\u001b[0m                         Traceback (most recent call last)",
      "Cell \u001b[0;32mIn[2], line 50\u001b[0m\n\u001b[1;32m     48\u001b[0m out_path \u001b[38;5;241m=\u001b[39m os\u001b[38;5;241m.\u001b[39mpath\u001b[38;5;241m.\u001b[39mjoin(output_base, \u001b[38;5;124mf\u001b[39m\u001b[38;5;124m\"\u001b[39m\u001b[38;5;132;01m{\u001b[39;00mmodel_name\u001b[38;5;132;01m}\u001b[39;00m\u001b[38;5;124m_\u001b[39m\u001b[38;5;132;01m{\u001b[39;00mrep\u001b[38;5;132;01m}\u001b[39;00m\u001b[38;5;124m\"\u001b[39m, \u001b[38;5;124mf\u001b[39m\u001b[38;5;124m\"\u001b[39m\u001b[38;5;132;01m{\u001b[39;00mname\u001b[38;5;132;01m}\u001b[39;00m\u001b[38;5;124m_\u001b[39m\u001b[38;5;132;01m{\u001b[39;00mmodel_name\u001b[38;5;132;01m}\u001b[39;00m\u001b[38;5;124m_\u001b[39m\u001b[38;5;132;01m{\u001b[39;00mrep\u001b[38;5;132;01m}\u001b[39;00m\u001b[38;5;124m.pdb\u001b[39m\u001b[38;5;124m\"\u001b[39m)\n\u001b[1;32m     49\u001b[0m \u001b[38;5;28;01mtry\u001b[39;00m:\n\u001b[0;32m---> 50\u001b[0m     \u001b[43mmodel_functions\u001b[49m\u001b[43m[\u001b[49m\u001b[43mmodel_name\u001b[49m\u001b[43m]\u001b[49m\u001b[43m(\u001b[49m\u001b[43mname\u001b[49m\u001b[43m,\u001b[49m\u001b[43m \u001b[49m\u001b[43mvh_seq\u001b[49m\u001b[43m,\u001b[49m\u001b[43m \u001b[49m\u001b[43mvl_seq\u001b[49m\u001b[43m,\u001b[49m\u001b[43m \u001b[49m\u001b[43mout_path\u001b[49m\u001b[43m)\u001b[49m\n\u001b[1;32m     51\u001b[0m \u001b[38;5;28;01mexcept\u001b[39;00m \u001b[38;5;167;01mException\u001b[39;00m \u001b[38;5;28;01mas\u001b[39;00m e:\n\u001b[1;32m     52\u001b[0m     \u001b[38;5;28mprint\u001b[39m(\u001b[38;5;124mf\u001b[39m\u001b[38;5;124m\"\u001b[39m\u001b[38;5;124m Error predicting \u001b[39m\u001b[38;5;132;01m{\u001b[39;00mname\u001b[38;5;132;01m}\u001b[39;00m\u001b[38;5;124m (\u001b[39m\u001b[38;5;132;01m{\u001b[39;00mmodel_name\u001b[38;5;132;01m}\u001b[39;00m\u001b[38;5;124m rep \u001b[39m\u001b[38;5;132;01m{\u001b[39;00mrep\u001b[38;5;132;01m}\u001b[39;00m\u001b[38;5;124m): \u001b[39m\u001b[38;5;132;01m{\u001b[39;00me\u001b[38;5;132;01m}\u001b[39;00m\u001b[38;5;124m\"\u001b[39m)\n",
      "Cell \u001b[0;32mIn[2], line 29\u001b[0m, in \u001b[0;36mpredict_igfold\u001b[0;34m(name, vh, vl, out_path)\u001b[0m\n\u001b[1;32m     28\u001b[0m \u001b[38;5;28;01mdef\u001b[39;00m\u001b[38;5;250m \u001b[39m\u001b[38;5;21mpredict_igfold\u001b[39m(name, vh, vl, out_path):\n\u001b[0;32m---> 29\u001b[0m     \u001b[43migfold_runner\u001b[49m\u001b[38;5;241;43m.\u001b[39;49m\u001b[43mfold\u001b[49m\u001b[43m(\u001b[49m\u001b[43mpdb_file\u001b[49m\u001b[38;5;241;43m=\u001b[39;49m\u001b[43mout_path\u001b[49m\u001b[43m,\u001b[49m\u001b[43m \u001b[49m\u001b[43msequences\u001b[49m\u001b[38;5;241;43m=\u001b[39;49m\u001b[43m{\u001b[49m\u001b[38;5;124;43m\"\u001b[39;49m\u001b[38;5;124;43mH\u001b[39;49m\u001b[38;5;124;43m\"\u001b[39;49m\u001b[43m:\u001b[49m\u001b[43m \u001b[49m\u001b[43mvh\u001b[49m\u001b[43m,\u001b[49m\u001b[43m \u001b[49m\u001b[38;5;124;43m\"\u001b[39;49m\u001b[38;5;124;43mL\u001b[39;49m\u001b[38;5;124;43m\"\u001b[39;49m\u001b[43m:\u001b[49m\u001b[43m \u001b[49m\u001b[43mvl\u001b[49m\u001b[43m}\u001b[49m\u001b[43m,\u001b[49m\u001b[43m \u001b[49m\u001b[43mdo_refine\u001b[49m\u001b[38;5;241;43m=\u001b[39;49m\u001b[38;5;28;43;01mFalse\u001b[39;49;00m\u001b[43m,\u001b[49m\u001b[43m \u001b[49m\u001b[43mdo_renum\u001b[49m\u001b[38;5;241;43m=\u001b[39;49m\u001b[38;5;28;43;01mFalse\u001b[39;49;00m\u001b[43m,\u001b[49m\u001b[43m \u001b[49m\u001b[43muse_openmm\u001b[49m\u001b[38;5;241;43m=\u001b[39;49m\u001b[38;5;28;43;01mTrue\u001b[39;49;00m\u001b[43m)\u001b[49m\n",
      "File \u001b[0;32m~/miniconda3/envs/antibody_prediction_safe/lib/python3.10/site-packages/igfold/IgFoldRunner.py:106\u001b[0m, in \u001b[0;36mIgFoldRunner.fold\u001b[0;34m(self, pdb_file, fasta_file, sequences, template_pdb, ignore_cdrs, ignore_chain, skip_pdb, do_refine, use_openmm, do_renum, truncate_sequences)\u001b[0m\n\u001b[1;32m     91\u001b[0m \u001b[38;5;250m\u001b[39m\u001b[38;5;124;03m\"\"\"\u001b[39;00m\n\u001b[1;32m     92\u001b[0m \u001b[38;5;124;03mPredict antibody structure with IgFold.\u001b[39;00m\n\u001b[1;32m     93\u001b[0m \n\u001b[0;32m   (...)\u001b[0m\n\u001b[1;32m    103\u001b[0m \u001b[38;5;124;03m:param truncate_sequences: Truncate sequences with AbNumber.\u001b[39;00m\n\u001b[1;32m    104\u001b[0m \u001b[38;5;124;03m\"\"\"\u001b[39;00m\n\u001b[1;32m    105\u001b[0m start_time \u001b[38;5;241m=\u001b[39m time()\n\u001b[0;32m--> 106\u001b[0m model_out \u001b[38;5;241m=\u001b[39m \u001b[43mfold\u001b[49m\u001b[43m(\u001b[49m\n\u001b[1;32m    107\u001b[0m \u001b[43m    \u001b[49m\u001b[38;5;28;43mself\u001b[39;49m\u001b[38;5;241;43m.\u001b[39;49m\u001b[43mantiberty\u001b[49m\u001b[43m,\u001b[49m\n\u001b[1;32m    108\u001b[0m \u001b[43m    \u001b[49m\u001b[38;5;28;43mself\u001b[39;49m\u001b[38;5;241;43m.\u001b[39;49m\u001b[43mmodels\u001b[49m\u001b[43m,\u001b[49m\n\u001b[1;32m    109\u001b[0m \u001b[43m    \u001b[49m\u001b[43mpdb_file\u001b[49m\u001b[38;5;241;43m=\u001b[39;49m\u001b[43mpdb_file\u001b[49m\u001b[43m,\u001b[49m\n\u001b[1;32m    110\u001b[0m \u001b[43m    \u001b[49m\u001b[43mfasta_file\u001b[49m\u001b[38;5;241;43m=\u001b[39;49m\u001b[43mfasta_file\u001b[49m\u001b[43m,\u001b[49m\n\u001b[1;32m    111\u001b[0m \u001b[43m    \u001b[49m\u001b[43msequences\u001b[49m\u001b[38;5;241;43m=\u001b[39;49m\u001b[43msequences\u001b[49m\u001b[43m,\u001b[49m\n\u001b[1;32m    112\u001b[0m \u001b[43m    \u001b[49m\u001b[43mtemplate_pdb\u001b[49m\u001b[38;5;241;43m=\u001b[39;49m\u001b[43mtemplate_pdb\u001b[49m\u001b[43m,\u001b[49m\n\u001b[1;32m    113\u001b[0m \u001b[43m    \u001b[49m\u001b[43mignore_cdrs\u001b[49m\u001b[38;5;241;43m=\u001b[39;49m\u001b[43mignore_cdrs\u001b[49m\u001b[43m,\u001b[49m\n\u001b[1;32m    114\u001b[0m \u001b[43m    \u001b[49m\u001b[43mignore_chain\u001b[49m\u001b[38;5;241;43m=\u001b[39;49m\u001b[43mignore_chain\u001b[49m\u001b[43m,\u001b[49m\n\u001b[1;32m    115\u001b[0m \u001b[43m    \u001b[49m\u001b[43mskip_pdb\u001b[49m\u001b[38;5;241;43m=\u001b[39;49m\u001b[43mskip_pdb\u001b[49m\u001b[43m,\u001b[49m\n\u001b[1;32m    116\u001b[0m \u001b[43m    \u001b[49m\u001b[43mdo_refine\u001b[49m\u001b[38;5;241;43m=\u001b[39;49m\u001b[43mdo_refine\u001b[49m\u001b[43m,\u001b[49m\n\u001b[1;32m    117\u001b[0m \u001b[43m    \u001b[49m\u001b[43muse_openmm\u001b[49m\u001b[38;5;241;43m=\u001b[39;49m\u001b[43muse_openmm\u001b[49m\u001b[43m,\u001b[49m\n\u001b[1;32m    118\u001b[0m \u001b[43m    \u001b[49m\u001b[43mdo_renum\u001b[49m\u001b[38;5;241;43m=\u001b[39;49m\u001b[43mdo_renum\u001b[49m\u001b[43m,\u001b[49m\n\u001b[1;32m    119\u001b[0m \u001b[43m    \u001b[49m\u001b[43mtruncate_sequences\u001b[49m\u001b[38;5;241;43m=\u001b[39;49m\u001b[43mtruncate_sequences\u001b[49m\u001b[43m,\u001b[49m\n\u001b[1;32m    120\u001b[0m \u001b[43m\u001b[49m\u001b[43m)\u001b[49m\n\u001b[1;32m    122\u001b[0m \u001b[38;5;28mprint\u001b[39m(\u001b[38;5;124mf\u001b[39m\u001b[38;5;124m\"\u001b[39m\u001b[38;5;124mCompleted folding in \u001b[39m\u001b[38;5;132;01m{\u001b[39;00mtime()\u001b[38;5;250m \u001b[39m\u001b[38;5;241m-\u001b[39m\u001b[38;5;250m \u001b[39mstart_time\u001b[38;5;132;01m:\u001b[39;00m\u001b[38;5;124m.2f\u001b[39m\u001b[38;5;132;01m}\u001b[39;00m\u001b[38;5;124m seconds.\u001b[39m\u001b[38;5;124m\"\u001b[39m)\n\u001b[1;32m    124\u001b[0m \u001b[38;5;28;01mreturn\u001b[39;00m model_out\n",
      "File \u001b[0;32m~/miniconda3/envs/antibody_prediction_safe/lib/python3.10/site-packages/igfold/utils/folding.py:214\u001b[0m, in \u001b[0;36mfold\u001b[0;34m(antiberty, models, pdb_file, fasta_file, sequences, template_pdb, ignore_cdrs, ignore_chain, skip_pdb, do_refine, use_openmm, do_renum, truncate_sequences)\u001b[0m\n\u001b[1;32m    212\u001b[0m \u001b[38;5;28;01mwith\u001b[39;00m torch\u001b[38;5;241m.\u001b[39mno_grad():\n\u001b[1;32m    213\u001b[0m     \u001b[38;5;28;01mfor\u001b[39;00m i, model \u001b[38;5;129;01min\u001b[39;00m \u001b[38;5;28menumerate\u001b[39m(models):\n\u001b[0;32m--> 214\u001b[0m         model_out \u001b[38;5;241m=\u001b[39m \u001b[43mmodel\u001b[49m\u001b[43m(\u001b[49m\u001b[43mmodel_in\u001b[49m\u001b[43m)\u001b[49m\n\u001b[1;32m    215\u001b[0m         model_out \u001b[38;5;241m=\u001b[39m model\u001b[38;5;241m.\u001b[39mgradient_refine(model_in, model_out)\n\u001b[1;32m    216\u001b[0m         scores\u001b[38;5;241m.\u001b[39mappend(model_out\u001b[38;5;241m.\u001b[39mprmsd\u001b[38;5;241m.\u001b[39mquantile(\u001b[38;5;241m0.9\u001b[39m))\n",
      "File \u001b[0;32m~/miniconda3/envs/antibody_prediction_safe/lib/python3.10/site-packages/torch/nn/modules/module.py:1501\u001b[0m, in \u001b[0;36mModule._call_impl\u001b[0;34m(self, *args, **kwargs)\u001b[0m\n\u001b[1;32m   1496\u001b[0m \u001b[38;5;66;03m# If we don't have any hooks, we want to skip the rest of the logic in\u001b[39;00m\n\u001b[1;32m   1497\u001b[0m \u001b[38;5;66;03m# this function, and just call forward.\u001b[39;00m\n\u001b[1;32m   1498\u001b[0m \u001b[38;5;28;01mif\u001b[39;00m \u001b[38;5;129;01mnot\u001b[39;00m (\u001b[38;5;28mself\u001b[39m\u001b[38;5;241m.\u001b[39m_backward_hooks \u001b[38;5;129;01mor\u001b[39;00m \u001b[38;5;28mself\u001b[39m\u001b[38;5;241m.\u001b[39m_backward_pre_hooks \u001b[38;5;129;01mor\u001b[39;00m \u001b[38;5;28mself\u001b[39m\u001b[38;5;241m.\u001b[39m_forward_hooks \u001b[38;5;129;01mor\u001b[39;00m \u001b[38;5;28mself\u001b[39m\u001b[38;5;241m.\u001b[39m_forward_pre_hooks\n\u001b[1;32m   1499\u001b[0m         \u001b[38;5;129;01mor\u001b[39;00m _global_backward_pre_hooks \u001b[38;5;129;01mor\u001b[39;00m _global_backward_hooks\n\u001b[1;32m   1500\u001b[0m         \u001b[38;5;129;01mor\u001b[39;00m _global_forward_hooks \u001b[38;5;129;01mor\u001b[39;00m _global_forward_pre_hooks):\n\u001b[0;32m-> 1501\u001b[0m     \u001b[38;5;28;01mreturn\u001b[39;00m \u001b[43mforward_call\u001b[49m\u001b[43m(\u001b[49m\u001b[38;5;241;43m*\u001b[39;49m\u001b[43margs\u001b[49m\u001b[43m,\u001b[49m\u001b[43m \u001b[49m\u001b[38;5;241;43m*\u001b[39;49m\u001b[38;5;241;43m*\u001b[39;49m\u001b[43mkwargs\u001b[49m\u001b[43m)\u001b[49m\n\u001b[1;32m   1502\u001b[0m \u001b[38;5;66;03m# Do not call functions when jit is used\u001b[39;00m\n\u001b[1;32m   1503\u001b[0m full_backward_hooks, non_full_backward_hooks \u001b[38;5;241m=\u001b[39m [], []\n",
      "File \u001b[0;32m~/miniconda3/envs/antibody_prediction_safe/lib/python3.10/site-packages/igfold/model/IgFold.py:241\u001b[0m, in \u001b[0;36mIgFold.forward\u001b[0;34m(self, input)\u001b[0m\n\u001b[1;32m    239\u001b[0m str_nodes \u001b[38;5;241m=\u001b[39m \u001b[38;5;28mself\u001b[39m\u001b[38;5;241m.\u001b[39mstr_node_transform(bert_feats)\n\u001b[1;32m    240\u001b[0m str_edges \u001b[38;5;241m=\u001b[39m \u001b[38;5;28mself\u001b[39m\u001b[38;5;241m.\u001b[39mstr_edge_transform(bert_attn)\n\u001b[0;32m--> 241\u001b[0m str_nodes, str_edges \u001b[38;5;241m=\u001b[39m \u001b[38;5;28;43mself\u001b[39;49m\u001b[38;5;241;43m.\u001b[39;49m\u001b[43mmain_block\u001b[49m\u001b[43m(\u001b[49m\n\u001b[1;32m    242\u001b[0m \u001b[43m    \u001b[49m\u001b[43mstr_nodes\u001b[49m\u001b[43m,\u001b[49m\n\u001b[1;32m    243\u001b[0m \u001b[43m    \u001b[49m\u001b[43mstr_edges\u001b[49m\u001b[43m,\u001b[49m\n\u001b[1;32m    244\u001b[0m \u001b[43m    \u001b[49m\u001b[43mmask\u001b[49m\u001b[38;5;241;43m=\u001b[39;49m\u001b[43mres_batch_mask\u001b[49m\u001b[43m,\u001b[49m\n\u001b[1;32m    245\u001b[0m \u001b[43m\u001b[49m\u001b[43m)\u001b[49m\n\u001b[1;32m    246\u001b[0m gt_embs \u001b[38;5;241m=\u001b[39m str_nodes\n\u001b[1;32m    247\u001b[0m str_nodes \u001b[38;5;241m=\u001b[39m \u001b[38;5;28mself\u001b[39m\u001b[38;5;241m.\u001b[39mtemplate_ipa(\n\u001b[1;32m    248\u001b[0m     str_nodes,\n\u001b[1;32m    249\u001b[0m     translations\u001b[38;5;241m=\u001b[39mtemp_translations,\n\u001b[0;32m   (...)\u001b[0m\n\u001b[1;32m    252\u001b[0m     mask\u001b[38;5;241m=\u001b[39mres_temp_mask,\n\u001b[1;32m    253\u001b[0m )\n",
      "File \u001b[0;32m~/miniconda3/envs/antibody_prediction_safe/lib/python3.10/site-packages/torch/nn/modules/module.py:1501\u001b[0m, in \u001b[0;36mModule._call_impl\u001b[0;34m(self, *args, **kwargs)\u001b[0m\n\u001b[1;32m   1496\u001b[0m \u001b[38;5;66;03m# If we don't have any hooks, we want to skip the rest of the logic in\u001b[39;00m\n\u001b[1;32m   1497\u001b[0m \u001b[38;5;66;03m# this function, and just call forward.\u001b[39;00m\n\u001b[1;32m   1498\u001b[0m \u001b[38;5;28;01mif\u001b[39;00m \u001b[38;5;129;01mnot\u001b[39;00m (\u001b[38;5;28mself\u001b[39m\u001b[38;5;241m.\u001b[39m_backward_hooks \u001b[38;5;129;01mor\u001b[39;00m \u001b[38;5;28mself\u001b[39m\u001b[38;5;241m.\u001b[39m_backward_pre_hooks \u001b[38;5;129;01mor\u001b[39;00m \u001b[38;5;28mself\u001b[39m\u001b[38;5;241m.\u001b[39m_forward_hooks \u001b[38;5;129;01mor\u001b[39;00m \u001b[38;5;28mself\u001b[39m\u001b[38;5;241m.\u001b[39m_forward_pre_hooks\n\u001b[1;32m   1499\u001b[0m         \u001b[38;5;129;01mor\u001b[39;00m _global_backward_pre_hooks \u001b[38;5;129;01mor\u001b[39;00m _global_backward_hooks\n\u001b[1;32m   1500\u001b[0m         \u001b[38;5;129;01mor\u001b[39;00m _global_forward_hooks \u001b[38;5;129;01mor\u001b[39;00m _global_forward_pre_hooks):\n\u001b[0;32m-> 1501\u001b[0m     \u001b[38;5;28;01mreturn\u001b[39;00m \u001b[43mforward_call\u001b[49m\u001b[43m(\u001b[49m\u001b[38;5;241;43m*\u001b[39;49m\u001b[43margs\u001b[49m\u001b[43m,\u001b[49m\u001b[43m \u001b[49m\u001b[38;5;241;43m*\u001b[39;49m\u001b[38;5;241;43m*\u001b[39;49m\u001b[43mkwargs\u001b[49m\u001b[43m)\u001b[49m\n\u001b[1;32m   1502\u001b[0m \u001b[38;5;66;03m# Do not call functions when jit is used\u001b[39;00m\n\u001b[1;32m   1503\u001b[0m full_backward_hooks, non_full_backward_hooks \u001b[38;5;241m=\u001b[39m [], []\n",
      "File \u001b[0;32m~/miniconda3/envs/antibody_prediction_safe/lib/python3.10/site-packages/igfold/model/components/TriangleGraphTransformer.py:57\u001b[0m, in \u001b[0;36mTriangleGraphTransformer.forward\u001b[0;34m(self, nodes, edges, mask)\u001b[0m\n\u001b[1;32m     52\u001b[0m     nodes, _ \u001b[38;5;241m=\u001b[39m gt(nodes, edges, mask\u001b[38;5;241m=\u001b[39mmask)\n\u001b[1;32m     53\u001b[0m     edges \u001b[38;5;241m=\u001b[39m edges \u001b[38;5;241m+\u001b[39m tri_out(\n\u001b[1;32m     54\u001b[0m         edges,\n\u001b[1;32m     55\u001b[0m         mask\u001b[38;5;241m=\u001b[39mtri_mask,\n\u001b[1;32m     56\u001b[0m     )\n\u001b[0;32m---> 57\u001b[0m     edges \u001b[38;5;241m=\u001b[39m edges \u001b[38;5;241m+\u001b[39m \u001b[43mtri_in\u001b[49m\u001b[43m(\u001b[49m\n\u001b[1;32m     58\u001b[0m \u001b[43m        \u001b[49m\u001b[43medges\u001b[49m\u001b[43m,\u001b[49m\n\u001b[1;32m     59\u001b[0m \u001b[43m        \u001b[49m\u001b[43mmask\u001b[49m\u001b[38;5;241;43m=\u001b[39;49m\u001b[43mtri_mask\u001b[49m\u001b[43m,\u001b[49m\n\u001b[1;32m     60\u001b[0m \u001b[43m    \u001b[49m\u001b[43m)\u001b[49m\n\u001b[1;32m     62\u001b[0m \u001b[38;5;28;01mreturn\u001b[39;00m nodes, edges\n",
      "File \u001b[0;32m~/miniconda3/envs/antibody_prediction_safe/lib/python3.10/site-packages/torch/nn/modules/module.py:1501\u001b[0m, in \u001b[0;36mModule._call_impl\u001b[0;34m(self, *args, **kwargs)\u001b[0m\n\u001b[1;32m   1496\u001b[0m \u001b[38;5;66;03m# If we don't have any hooks, we want to skip the rest of the logic in\u001b[39;00m\n\u001b[1;32m   1497\u001b[0m \u001b[38;5;66;03m# this function, and just call forward.\u001b[39;00m\n\u001b[1;32m   1498\u001b[0m \u001b[38;5;28;01mif\u001b[39;00m \u001b[38;5;129;01mnot\u001b[39;00m (\u001b[38;5;28mself\u001b[39m\u001b[38;5;241m.\u001b[39m_backward_hooks \u001b[38;5;129;01mor\u001b[39;00m \u001b[38;5;28mself\u001b[39m\u001b[38;5;241m.\u001b[39m_backward_pre_hooks \u001b[38;5;129;01mor\u001b[39;00m \u001b[38;5;28mself\u001b[39m\u001b[38;5;241m.\u001b[39m_forward_hooks \u001b[38;5;129;01mor\u001b[39;00m \u001b[38;5;28mself\u001b[39m\u001b[38;5;241m.\u001b[39m_forward_pre_hooks\n\u001b[1;32m   1499\u001b[0m         \u001b[38;5;129;01mor\u001b[39;00m _global_backward_pre_hooks \u001b[38;5;129;01mor\u001b[39;00m _global_backward_hooks\n\u001b[1;32m   1500\u001b[0m         \u001b[38;5;129;01mor\u001b[39;00m _global_forward_hooks \u001b[38;5;129;01mor\u001b[39;00m _global_forward_pre_hooks):\n\u001b[0;32m-> 1501\u001b[0m     \u001b[38;5;28;01mreturn\u001b[39;00m \u001b[43mforward_call\u001b[49m\u001b[43m(\u001b[49m\u001b[38;5;241;43m*\u001b[39;49m\u001b[43margs\u001b[49m\u001b[43m,\u001b[49m\u001b[43m \u001b[49m\u001b[38;5;241;43m*\u001b[39;49m\u001b[38;5;241;43m*\u001b[39;49m\u001b[43mkwargs\u001b[49m\u001b[43m)\u001b[49m\n\u001b[1;32m   1502\u001b[0m \u001b[38;5;66;03m# Do not call functions when jit is used\u001b[39;00m\n\u001b[1;32m   1503\u001b[0m full_backward_hooks, non_full_backward_hooks \u001b[38;5;241m=\u001b[39m [], []\n",
      "File \u001b[0;32m~/miniconda3/envs/antibody_prediction_safe/lib/python3.10/site-packages/igfold/model/components/TriangleMultiplicativeModule.py:100\u001b[0m, in \u001b[0;36mTriangleMultiplicativeModule.forward\u001b[0;34m(self, x, mask)\u001b[0m\n\u001b[1;32m     97\u001b[0m left \u001b[38;5;241m=\u001b[39m left \u001b[38;5;241m*\u001b[39m left_gate\n\u001b[1;32m     98\u001b[0m right \u001b[38;5;241m=\u001b[39m right \u001b[38;5;241m*\u001b[39m right_gate\n\u001b[0;32m--> 100\u001b[0m out \u001b[38;5;241m=\u001b[39m \u001b[43meinsum\u001b[49m\u001b[43m(\u001b[49m\n\u001b[1;32m    101\u001b[0m \u001b[43m    \u001b[49m\u001b[38;5;28;43mself\u001b[39;49m\u001b[38;5;241;43m.\u001b[39;49m\u001b[43mmix_einsum_eq\u001b[49m\u001b[43m,\u001b[49m\n\u001b[1;32m    102\u001b[0m \u001b[43m    \u001b[49m\u001b[43mleft\u001b[49m\u001b[43m,\u001b[49m\n\u001b[1;32m    103\u001b[0m \u001b[43m    \u001b[49m\u001b[43mright\u001b[49m\u001b[43m,\u001b[49m\n\u001b[1;32m    104\u001b[0m \u001b[43m\u001b[49m\u001b[43m)\u001b[49m\n\u001b[1;32m    106\u001b[0m out \u001b[38;5;241m=\u001b[39m \u001b[38;5;28mself\u001b[39m\u001b[38;5;241m.\u001b[39mto_out_norm(out)\n\u001b[1;32m    107\u001b[0m out \u001b[38;5;241m=\u001b[39m \u001b[38;5;28mself\u001b[39m\u001b[38;5;241m.\u001b[39mto_out(out)\n",
      "File \u001b[0;32m~/miniconda3/envs/antibody_prediction_safe/lib/python3.10/site-packages/torch/functional.py:378\u001b[0m, in \u001b[0;36meinsum\u001b[0;34m(*args)\u001b[0m\n\u001b[1;32m    373\u001b[0m     \u001b[38;5;28;01mreturn\u001b[39;00m einsum(equation, \u001b[38;5;241m*\u001b[39m_operands)\n\u001b[1;32m    375\u001b[0m \u001b[38;5;28;01mif\u001b[39;00m \u001b[38;5;28mlen\u001b[39m(operands) \u001b[38;5;241m<\u001b[39m\u001b[38;5;241m=\u001b[39m \u001b[38;5;241m2\u001b[39m \u001b[38;5;129;01mor\u001b[39;00m \u001b[38;5;129;01mnot\u001b[39;00m opt_einsum\u001b[38;5;241m.\u001b[39menabled:\n\u001b[1;32m    376\u001b[0m     \u001b[38;5;66;03m# the path for contracting 0 or 1 time(s) is already optimized\u001b[39;00m\n\u001b[1;32m    377\u001b[0m     \u001b[38;5;66;03m# or the user has disabled using opt_einsum\u001b[39;00m\n\u001b[0;32m--> 378\u001b[0m     \u001b[38;5;28;01mreturn\u001b[39;00m \u001b[43m_VF\u001b[49m\u001b[38;5;241;43m.\u001b[39;49m\u001b[43meinsum\u001b[49m\u001b[43m(\u001b[49m\u001b[43mequation\u001b[49m\u001b[43m,\u001b[49m\u001b[43m \u001b[49m\u001b[43moperands\u001b[49m\u001b[43m)\u001b[49m  \u001b[38;5;66;03m# type: ignore[attr-defined]\u001b[39;00m\n\u001b[1;32m    380\u001b[0m path \u001b[38;5;241m=\u001b[39m \u001b[38;5;28;01mNone\u001b[39;00m\n\u001b[1;32m    381\u001b[0m \u001b[38;5;28;01mif\u001b[39;00m opt_einsum\u001b[38;5;241m.\u001b[39mis_available():\n",
      "\u001b[0;31mKeyboardInterrupt\u001b[0m: "
     ]
    }
   ],
   "source": [
    "# STEP 1A: Predict with IgFold and ImmuneBuilder\n",
    "\n",
    "import os\n",
    "import pandas as pd\n",
    "from tqdm import tqdm\n",
    "from igfold import IgFoldRunner\n",
    "from ImmuneBuilder import ABodyBuilder2\n",
    "\n",
    "# --- Setup ---\n",
    "output_base = \"/home/eva/Structure_model_benchmark/predictions_output\"\n",
    "models = [\"igfold\", \"immunebuilder\"]\n",
    "repeats = [\"1\", \"2\", \"3\"]\n",
    "\n",
    "# Create folders\n",
    "for model_name in models:\n",
    "    for rep in repeats:\n",
    "        os.makedirs(os.path.join(output_base, f\"{model_name}_{rep}\"), exist_ok=True)\n",
    "\n",
    "# --- Load Input Sequences ---\n",
    "csv_path = \"/home/eva/Structure_model_benchmark/antibody.csv\"\n",
    "df = pd.read_csv(csv_path)\n",
    "\n",
    "# --- Load Models ---\n",
    "igfold_runner = IgFoldRunner()\n",
    "immunebuilder_runner = ABodyBuilder2()\n",
    "\n",
    "# --- Prediction Functions ---\n",
    "def predict_igfold(name, vh, vl, out_path):\n",
    "    igfold_runner.fold(pdb_file=out_path, sequences={\"H\": vh, \"L\": vl}, do_refine=False, do_renum=False, use_openmm=True)\n",
    "\n",
    "def predict_immunebuilder(name, vh, vl, out_path):\n",
    "    ab = immunebuilder_runner.predict({\"H\": vh, \"L\": vl})\n",
    "    ab.save(out_path)\n",
    "\n",
    "model_functions = {\n",
    "    \"igfold\": predict_igfold,\n",
    "    \"immunebuilder\": predict_immunebuilder\n",
    "}\n",
    "\n",
    "# --- Prediction Loop ---\n",
    "for idx, row in tqdm(df.iterrows(), total=len(df)):\n",
    "    name = row['name']\n",
    "    vh_seq = row['vh']\n",
    "    vl_seq = row['vl']\n",
    "\n",
    "    for model_name in models:\n",
    "        for rep in repeats:\n",
    "            out_path = os.path.join(output_base, f\"{model_name}_{rep}\", f\"{name}_{model_name}_{rep}.pdb\")\n",
    "            try:\n",
    "                model_functions[model_name](name, vh_seq, vl_seq, out_path)\n",
    "            except Exception as e:\n",
    "                print(f\" Error predicting {name} ({model_name} rep {rep}): {e}\")\n",
    "\n",
    "print(\" IgFold + ImmuneBuilder prediction (3x repeats) complete.\")\n"
   ]
  }
 ],
 "metadata": {
  "kernelspec": {
   "display_name": "antibody_prediction_safe",
   "language": "python",
   "name": "python3"
  },
  "language_info": {
   "codemirror_mode": {
    "name": "ipython",
    "version": 3
   },
   "file_extension": ".py",
   "mimetype": "text/x-python",
   "name": "python",
   "nbconvert_exporter": "python",
   "pygments_lexer": "ipython3",
   "version": "3.10.17"
  }
 },
 "nbformat": 4,
 "nbformat_minor": 5
}
